{
  "nbformat": 4,
  "nbformat_minor": 0,
  "metadata": {
    "colab": {
      "provenance": [],
      "authorship_tag": "ABX9TyPaIoH0V5IX8AZgPZhf9n1m",
      "include_colab_link": true
    },
    "kernelspec": {
      "name": "python3",
      "display_name": "Python 3"
    },
    "language_info": {
      "name": "python"
    }
  },
  "cells": [
    {
      "cell_type": "markdown",
      "metadata": {
        "id": "view-in-github",
        "colab_type": "text"
      },
      "source": [
        "<a href=\"https://colab.research.google.com/github/luisgustavogac/Real-data-visualization-projects/blob/main/Case_XP.ipynb\" target=\"_parent\"><img src=\"https://colab.research.google.com/assets/colab-badge.svg\" alt=\"Open In Colab\"/></a>"
      ]
    },
    {
      "cell_type": "code",
      "execution_count": 1,
      "metadata": {
        "id": "HcTG1sD294VL",
        "cellView": "form"
      },
      "outputs": [],
      "source": [
        "# @title Setup\n",
        "from google.colab import auth\n",
        "from google.cloud import bigquery\n",
        "from google.colab import data_table\n",
        "from email.mime.text import MIMEText\n",
        "from email.mime.image import MIMEImage\n",
        "from email.mime.multipart import MIMEMultipart\n",
        "from email.mime.application import MIMEApplication\n",
        "import smtplib\n",
        "import matplotlib.pyplot as plt\n",
        "import pandas as pd\n",
        "from datetime import datetime\n",
        "from google.colab import auth\n",
        "import gspread\n",
        "from google.auth import default\n",
        "from pandasql import sqldf\n",
        "\n",
        "data = datetime.today().date()\n",
        "data_hoje = str(data)\n",
        "\n",
        "\n",
        "project = 'maga-bigdata' # Project ID inserted based on the query results selected to explore\n",
        "location = 'US' # Location inserted based on the query results selected to explore\n",
        "client = bigquery.Client(project=project, location=location)\n",
        "data_table.enable_dataframe_formatter()\n",
        "auth.authenticate_user()"
      ]
    },
    {
      "cell_type": "code",
      "source": [
        "# @title Importar bases de dados\n",
        "dim_produto_lg = \"\"\"\n",
        "SELECT * FROM `maga-bigdata.advanced_analytics.dim_produto_lg`\n",
        "\"\"\"\n",
        "dim_canal_acessor_lg = \"\"\"\n",
        "SELECT * FROM `maga-bigdata.advanced_analytics.dim_canal_acessor_lg`\n",
        "\"\"\"\n",
        "dim_conta_suitability_lg = \"\"\"\n",
        "SELECT * FROM `maga-bigdata.advanced_analytics.dim_conta_suitability_lg`\n",
        "\"\"\"\n",
        "fat_net_mensal_lg = \"\"\"\n",
        "SELECT * FROM `maga-bigdata.advanced_analytics.fat_net_mensal_lg`\n",
        "\"\"\"\n",
        "fa_recomendacao_lg = \"\"\"\n",
        "SELECT * FROM `maga-bigdata.advanced_analytics.fat_recomendacao_lg`\n",
        "\"\"\"\n",
        "fat_custodia_conta_mensal = \"\"\"\n",
        "SELECT\n",
        "    fat.COD_DIM_TEMPO,\n",
        "    conta.COD_DIM_CONTA,\n",
        "    conta.SUITABILITY,\n",
        "    prod.CLASSE_N1 AS ESTRATEGIA,\n",
        "    aai.CANAL,\n",
        "    sum(fat.VAL_POSICAO) AS CUSTODIA\n",
        "FROM `maga-bigdata.advanced_analytics.fat_net_mensal_lg` AS FAT\n",
        "INNER JOIN `maga-bigdata.advanced_analytics.dim_canal_acessor_lg` AS aai\n",
        "    ON aai.COD_DIM_CANAL_ASSESSOR = fat.COD_DIM_CANAL_ASSESSOR\n",
        "\n",
        "INNER JOIN `maga-bigdata.advanced_analytics.dim_produto_lg` AS prod\n",
        "    ON prod.COD_DIM_PRODUTO = fat.COD_DIM_PRODUTO\n",
        "\n",
        "INNER JOIN `maga-bigdata.advanced_analytics.dim_conta_suitability_lg` AS conta\n",
        "    ON conta.COD_DIM_CONTA = fat.COD_DIM_CONTA\n",
        "\n",
        "--WHERE aai.CANAL = 'B2B'\n",
        "GROUP BY\n",
        "    fat.COD_DIM_TEMPO,\n",
        "    conta.COD_DIM_CONTA,\n",
        "    conta.SUITABILITY,\n",
        "    prod.CLASSE_N1,\n",
        "    aai.CANAL\n",
        "\"\"\""
      ],
      "metadata": {
        "id": "DkC3o6DaCtWq"
      },
      "execution_count": 2,
      "outputs": []
    },
    {
      "cell_type": "code",
      "source": [
        "# @title Transformar em data frame\n",
        "fat_custodia_conta_mensal = client.query(fat_custodia_conta_mensal)\n",
        "fat_custodia_conta_mensal = fat_custodia_conta_mensal.result()\n",
        "column_names_tronco = [field.name for field in fat_custodia_conta_mensal.schema]\n",
        "filename = \"fat_custodia_conta_mensal.csv\"\n",
        "with open(filename, \"w\") as f:\n",
        "  f.write(\";\".join(column_names_tronco) + \"\\n\")\n",
        "  for row in fat_custodia_conta_mensal:\n",
        "    f.write(\";\".join([str(row[field.name]) for field in fat_custodia_conta_mensal.schema]) + \"\\n\")\n",
        "fat_custodia_conta_mensal = pd.read_csv(\"fat_custodia_conta_mensal.csv\" ,sep=';')\n",
        "\n",
        "dim_produto_lg = client.query(dim_produto_lg)\n",
        "dim_produto_lg = dim_produto_lg.result()\n",
        "column_names_tronco = [field.name for field in dim_produto_lg.schema]\n",
        "filename = \"dim_produto_lg.csv\"\n",
        "with open(filename, \"w\") as f:\n",
        "  f.write(\";\".join(column_names_tronco) + \"\\n\")\n",
        "  for row in dim_produto_lg:\n",
        "    f.write(\";\".join([str(row[field.name]) for field in dim_produto_lg.schema]) + \"\\n\")\n",
        "dim_produto = pd.read_csv(\"dim_produto_lg.csv\" ,sep=';')\n",
        "\n",
        "dim_canal_acessor_lg = client.query(dim_canal_acessor_lg)\n",
        "dim_canal_acessor_lg = dim_canal_acessor_lg.result()\n",
        "column_names_tronco = [field.name for field in dim_canal_acessor_lg.schema]\n",
        "filename = \"dim_canal_acessor_lg.csv\"\n",
        "with open(filename, \"w\") as f:\n",
        "  f.write(\";\".join(column_names_tronco) + \"\\n\")\n",
        "  for row in dim_canal_acessor_lg:\n",
        "    f.write(\";\".join([str(row[field.name]) for field in dim_canal_acessor_lg.schema]) + \"\\n\")\n",
        "dim_canal_assessor = pd.read_csv(\"dim_canal_acessor_lg.csv\" ,sep=';')\n",
        "\n",
        "dim_conta_suitability_lg = client.query(dim_conta_suitability_lg)\n",
        "dim_conta_suitability_lg = dim_conta_suitability_lg.result()\n",
        "column_names_tronco = [field.name for field in dim_conta_suitability_lg.schema]\n",
        "filename = \"dim_conta_suitability_lg.csv\"\n",
        "with open(filename, \"w\") as f:\n",
        "  f.write(\";\".join(column_names_tronco) + \"\\n\")\n",
        "  for row in dim_conta_suitability_lg:\n",
        "    f.write(\";\".join([str(row[field.name]) for field in dim_conta_suitability_lg.schema]) + \"\\n\")\n",
        "dim_conta_suitability = pd.read_csv(\"dim_conta_suitability_lg.csv\" ,sep=';')\n",
        "\n",
        "fat_net_mensal_lg = client.query(fat_net_mensal_lg)\n",
        "fat_net_mensal_lg = fat_net_mensal_lg.result()\n",
        "column_names_tronco = [field.name for field in fat_net_mensal_lg.schema]\n",
        "filename = \"fat_net_mensal_lg.csv\"\n",
        "with open(filename, \"w\") as f:\n",
        "  f.write(\";\".join(column_names_tronco) + \"\\n\")\n",
        "  for row in fat_net_mensal_lg:\n",
        "    f.write(\";\".join([str(row[field.name]) for field in fat_net_mensal_lg.schema]) + \"\\n\")\n",
        "fat_net_mensal = pd.read_csv(\"fat_net_mensal_lg.csv\" ,sep=';')\n",
        "\n",
        "fa_recomendacao_lg = client.query(fa_recomendacao_lg)\n",
        "fa_recomendacao_lg = fa_recomendacao_lg.result()\n",
        "column_names_tronco = [field.name for field in fa_recomendacao_lg.schema]\n",
        "filename = \"fa_recomendacao_lg.csv\"\n",
        "with open(filename, \"w\") as f:\n",
        "  f.write(\";\".join(column_names_tronco) + \"\\n\")\n",
        "  for row in fa_recomendacao_lg:\n",
        "    f.write(\";\".join([str(row[field.name]) for field in fa_recomendacao_lg.schema]) + \"\\n\")\n",
        "fat_recomendacao = pd.read_csv(\"fa_recomendacao_lg.csv\" ,sep=';')"
      ],
      "metadata": {
        "cellView": "form",
        "id": "sEjRrTOLH4He"
      },
      "execution_count": 3,
      "outputs": []
    },
    {
      "cell_type": "markdown",
      "source": [
        "## **DESAFIO 1**"
      ],
      "metadata": {
        "id": "Dqj5rRN1RN4s"
      }
    },
    {
      "cell_type": "code",
      "source": [
        "df_desafio_1 = sqldf(\"\"\"\n",
        "    SELECT *,\n",
        "    SUM(CUSTODIA) OVER (PARTITION BY COD_DIM_CONTA,ESTRATEGIA)/SUM(CUSTODIA) OVER (PARTITION BY COD_DIM_CONTA) AS ALOCACAO\n",
        "    FROM fat_custodia_conta_mensal f1\n",
        "    WHERE COD_DIM_TEMPO = (SELECT MAX(COD_DIM_TEMPO)\n",
        "                           FROM fat_custodia_conta_mensal f2\n",
        "                           WHERE f1.COD_DIM_CONTA = f2.COD_DIM_CONTA\n",
        "                           AND f1.ESTRATEGIA = f2.ESTRATEGIA\n",
        "                           )\n",
        "    AND CANAL = 'B2B'\n",
        "\"\"\")\n"
      ],
      "metadata": {
        "id": "UDMlKrIDVK08"
      },
      "execution_count": 4,
      "outputs": []
    },
    {
      "cell_type": "code",
      "source": [
        "df = df_desafio_1[df_desafio_1['COD_DIM_CONTA'] == 13].head()\n",
        "df = df.rename(columns={'COD_DIM_CONTA': 'Cliente','COD_DIM_TEMPO': 'Data', 'SUITABILITY': 'Suitability', 'ESTRATEGIA': 'Estratégia', 'CUSTODIA': 'Custódia', 'DESVIO_ALOCACAO': 'Desvio Alocação'})\n",
        "df_styled = df.style.set_table_styles([{\n",
        "    'selector': 'caption',\n",
        "    'props': [('font-size', '20px'), ('font-weight', 'bold')]\n",
        "}, {\n",
        "    'selector': 'th',\n",
        "    'props': [('font-size', '16px'), ('text-align', 'center')]\n",
        "}, {\n",
        "    'selector': 'td',\n",
        "    'props': [('font-size', '12px'), ('text-align', 'center'), ('max-width', '100%')]\n",
        "}, {\n",
        "    'selector': 'tr:nth-of-type(odd)',\n",
        "    'props': [('background-color', '#f9f9f9')]\n",
        "}, {\n",
        "    'selector': 'tr:nth-of-type(even)',\n",
        "    'props': [('background-color', 'white')]\n",
        "}, {\n",
        "    'selector': 'thead th',\n",
        "    'props': [('background-color', '#333333'), ('color', 'white')]\n",
        "}, {\n",
        "    'selector': 'tbody tr:hover',\n",
        "    'props': [('background-color', '#dddddd')]\n",
        "}]).set_caption('Exemplo desvio de alocação para o cliente de conta 13')\n",
        "\n",
        "df_styled\n"
      ],
      "metadata": {
        "colab": {
          "base_uri": "https://localhost:8080/",
          "height": 186
        },
        "id": "UsbteXA_N5Kv",
        "outputId": "6df38cf3-e51f-4b61-fb2f-9bf8b8d927fc"
      },
      "execution_count": 62,
      "outputs": [
        {
          "output_type": "execute_result",
          "data": {
            "text/plain": [
              "<pandas.io.formats.style.Styler at 0x7de40631a1a0>"
            ],
            "text/html": [
              "<style type=\"text/css\">\n",
              "#T_38cb6 caption {\n",
              "  font-size: 20px;\n",
              "  font-weight: bold;\n",
              "}\n",
              "#T_38cb6 th {\n",
              "  font-size: 16px;\n",
              "  text-align: center;\n",
              "}\n",
              "#T_38cb6 td {\n",
              "  font-size: 12px;\n",
              "  text-align: center;\n",
              "  max-width: 100%;\n",
              "}\n",
              "#T_38cb6 tr:nth-of-type(odd) {\n",
              "  background-color: #f9f9f9;\n",
              "}\n",
              "#T_38cb6 tr:nth-of-type(even) {\n",
              "  background-color: white;\n",
              "}\n",
              "#T_38cb6 thead th {\n",
              "  background-color: #333333;\n",
              "  color: white;\n",
              "}\n",
              "#T_38cb6 tbody tr:hover {\n",
              "  background-color: #dddddd;\n",
              "}\n",
              "</style>\n",
              "<table id=\"T_38cb6\" class=\"dataframe\">\n",
              "  <caption>Exemplo desvio de alocação para o cliente de conta 13</caption>\n",
              "  <thead>\n",
              "    <tr>\n",
              "      <th class=\"blank level0\" >&nbsp;</th>\n",
              "      <th id=\"T_38cb6_level0_col0\" class=\"col_heading level0 col0\" >Mês</th>\n",
              "      <th id=\"T_38cb6_level0_col1\" class=\"col_heading level0 col1\" >Cliente</th>\n",
              "      <th id=\"T_38cb6_level0_col2\" class=\"col_heading level0 col2\" >Suitability</th>\n",
              "      <th id=\"T_38cb6_level0_col3\" class=\"col_heading level0 col3\" >Estratégia</th>\n",
              "      <th id=\"T_38cb6_level0_col4\" class=\"col_heading level0 col4\" >CANAL</th>\n",
              "      <th id=\"T_38cb6_level0_col5\" class=\"col_heading level0 col5\" >Custódia</th>\n",
              "      <th id=\"T_38cb6_level0_col6\" class=\"col_heading level0 col6\" >ALOCACAO</th>\n",
              "    </tr>\n",
              "  </thead>\n",
              "  <tbody>\n",
              "    <tr>\n",
              "      <th id=\"T_38cb6_level0_row0\" class=\"row_heading level0 row0\" >0</th>\n",
              "      <td id=\"T_38cb6_row0_col0\" class=\"data row0 col0\" >20210930</td>\n",
              "      <td id=\"T_38cb6_row0_col1\" class=\"data row0 col1\" >13</td>\n",
              "      <td id=\"T_38cb6_row0_col2\" class=\"data row0 col2\" >Moderado</td>\n",
              "      <td id=\"T_38cb6_row0_col3\" class=\"data row0 col3\" >Internacional</td>\n",
              "      <td id=\"T_38cb6_row0_col4\" class=\"data row0 col4\" >B2B</td>\n",
              "      <td id=\"T_38cb6_row0_col5\" class=\"data row0 col5\" >8478.790000</td>\n",
              "      <td id=\"T_38cb6_row0_col6\" class=\"data row0 col6\" >0.046593</td>\n",
              "    </tr>\n",
              "    <tr>\n",
              "      <th id=\"T_38cb6_level0_row1\" class=\"row_heading level0 row1\" >1</th>\n",
              "      <td id=\"T_38cb6_row1_col0\" class=\"data row1 col0\" >20211031</td>\n",
              "      <td id=\"T_38cb6_row1_col1\" class=\"data row1 col1\" >13</td>\n",
              "      <td id=\"T_38cb6_row1_col2\" class=\"data row1 col2\" >Moderado</td>\n",
              "      <td id=\"T_38cb6_row1_col3\" class=\"data row1 col3\" >Pós-Fixado</td>\n",
              "      <td id=\"T_38cb6_row1_col4\" class=\"data row1 col4\" >B2B</td>\n",
              "      <td id=\"T_38cb6_row1_col5\" class=\"data row1 col5\" >116706.060000</td>\n",
              "      <td id=\"T_38cb6_row1_col6\" class=\"data row1 col6\" >0.641325</td>\n",
              "    </tr>\n",
              "    <tr>\n",
              "      <th id=\"T_38cb6_level0_row2\" class=\"row_heading level0 row2\" >2</th>\n",
              "      <td id=\"T_38cb6_row2_col0\" class=\"data row2 col0\" >20211031</td>\n",
              "      <td id=\"T_38cb6_row2_col1\" class=\"data row2 col1\" >13</td>\n",
              "      <td id=\"T_38cb6_row2_col2\" class=\"data row2 col2\" >Moderado</td>\n",
              "      <td id=\"T_38cb6_row2_col3\" class=\"data row2 col3\" >Renda Variável</td>\n",
              "      <td id=\"T_38cb6_row2_col4\" class=\"data row2 col4\" >B2B</td>\n",
              "      <td id=\"T_38cb6_row2_col5\" class=\"data row2 col5\" >56791.490000</td>\n",
              "      <td id=\"T_38cb6_row2_col6\" class=\"data row2 col6\" >0.312082</td>\n",
              "    </tr>\n",
              "  </tbody>\n",
              "</table>\n"
            ]
          },
          "metadata": {},
          "execution_count": 62
        }
      ]
    },
    {
      "cell_type": "markdown",
      "source": [
        "# **DESAFIO 2**"
      ],
      "metadata": {
        "id": "HMlH7fewZrZv"
      }
    },
    {
      "cell_type": "code",
      "source": [
        "fat_recomendacao_tratada = sqldf(\"\"\"\n",
        "    SELECT *\n",
        "    FROM fat_recomendacao f1\n",
        "    WHERE COD_DIM_TEMPO = (SELECT MAX(COD_DIM_TEMPO)\n",
        "                           FROM fat_recomendacao f2\n",
        "                           WHERE f1.SUITABILITY = f2.SUITABILITY\n",
        "                           AND f1.CLASSE_N1 = f2.CLASSE_N1)\n",
        "\"\"\")\n"
      ],
      "metadata": {
        "id": "hgYnRKxIVDD8"
      },
      "execution_count": 6,
      "outputs": []
    },
    {
      "cell_type": "code",
      "source": [
        "df_desafio_2 = sqldf(\"\"\"\n",
        "    SELECT df_1.*, ALOCACAO_RECOMENDADA, ABS(ALOCACAO - ALOCACAO_RECOMENDADA) AS DESVIO_ALOCACAO\n",
        "    FROM df_desafio_1 AS df_1\n",
        "    LEFT JOIN fat_recomendacao_tratada AS AUX\n",
        "    ON df_1.SUITABILITY = AUX.SUITABILITY AND df_1.ESTRATEGIA = AUX.CLASSE_N1\n",
        "\"\"\")\n"
      ],
      "metadata": {
        "id": "UMaObSxsjlEh"
      },
      "execution_count": 7,
      "outputs": []
    },
    {
      "cell_type": "code",
      "source": [
        "df_desafio_2_1 = df_desafio_2[['COD_DIM_CONTA','SUITABILITY','ESTRATEGIA','CUSTODIA','ALOCACAO_RECOMENDADA','DESVIO_ALOCACAO']]"
      ],
      "metadata": {
        "id": "uMp0iARMlMB_"
      },
      "execution_count": 57,
      "outputs": []
    },
    {
      "cell_type": "code",
      "source": [
        "df = df_desafio_2_1[df_desafio_2_1['COD_DIM_CONTA'] == 40].head()\n",
        "df = df.rename(columns={'COD_DIM_CONTA': 'Cliente', 'SUITABILITY': 'Suitability', 'ESTRATEGIA': 'Estratégia', 'CUSTODIA': 'Custódia', 'DESVIO_ALOCACAO': 'Desvio Alocação'})\n",
        "df_styled = df.style.set_table_styles([{\n",
        "    'selector': 'caption',\n",
        "    'props': [('font-size', '20px'), ('font-weight', 'bold')]\n",
        "}, {\n",
        "    'selector': 'th',\n",
        "    'props': [('font-size', '16px'), ('text-align', 'center')]\n",
        "}, {\n",
        "    'selector': 'td',\n",
        "    'props': [('font-size', '12px'), ('text-align', 'center'), ('max-width', '100%')]\n",
        "}, {\n",
        "    'selector': 'tr:nth-of-type(odd)',\n",
        "    'props': [('background-color', '#f9f9f9')]\n",
        "}, {\n",
        "    'selector': 'tr:nth-of-type(even)',\n",
        "    'props': [('background-color', 'white')]\n",
        "}, {\n",
        "    'selector': 'thead th',\n",
        "    'props': [('background-color', '#333333'), ('color', 'white')]\n",
        "}, {\n",
        "    'selector': 'tbody tr:hover',\n",
        "    'props': [('background-color', '#dddddd')]\n",
        "}]).set_caption('Exemplo desvio de alocação para o cliente de conta 40')\n",
        "\n",
        "df_styled\n"
      ],
      "metadata": {
        "id": "v9mi-0d040bs",
        "outputId": "e58ebedd-dd36-400b-f5fc-48817dbc19b7",
        "colab": {
          "base_uri": "https://localhost:8080/",
          "height": 186
        }
      },
      "execution_count": 59,
      "outputs": [
        {
          "output_type": "execute_result",
          "data": {
            "text/plain": [
              "<pandas.io.formats.style.Styler at 0x7de4088dcdc0>"
            ],
            "text/html": [
              "<style type=\"text/css\">\n",
              "#T_40fa6 caption {\n",
              "  font-size: 20px;\n",
              "  font-weight: bold;\n",
              "}\n",
              "#T_40fa6 th {\n",
              "  font-size: 16px;\n",
              "  text-align: center;\n",
              "}\n",
              "#T_40fa6 td {\n",
              "  font-size: 12px;\n",
              "  text-align: center;\n",
              "  max-width: 100%;\n",
              "}\n",
              "#T_40fa6 tr:nth-of-type(odd) {\n",
              "  background-color: #f9f9f9;\n",
              "}\n",
              "#T_40fa6 tr:nth-of-type(even) {\n",
              "  background-color: white;\n",
              "}\n",
              "#T_40fa6 thead th {\n",
              "  background-color: #333333;\n",
              "  color: white;\n",
              "}\n",
              "#T_40fa6 tbody tr:hover {\n",
              "  background-color: #dddddd;\n",
              "}\n",
              "</style>\n",
              "<table id=\"T_40fa6\" class=\"dataframe\">\n",
              "  <caption>Exemplo desvio de alocação para o cliente de conta 40</caption>\n",
              "  <thead>\n",
              "    <tr>\n",
              "      <th class=\"blank level0\" >&nbsp;</th>\n",
              "      <th id=\"T_40fa6_level0_col0\" class=\"col_heading level0 col0\" >Cliente</th>\n",
              "      <th id=\"T_40fa6_level0_col1\" class=\"col_heading level0 col1\" >Suitability</th>\n",
              "      <th id=\"T_40fa6_level0_col2\" class=\"col_heading level0 col2\" >Estratégia</th>\n",
              "      <th id=\"T_40fa6_level0_col3\" class=\"col_heading level0 col3\" >Custódia</th>\n",
              "      <th id=\"T_40fa6_level0_col4\" class=\"col_heading level0 col4\" >ALOCACAO_RECOMENDADA</th>\n",
              "      <th id=\"T_40fa6_level0_col5\" class=\"col_heading level0 col5\" >Desvio Alocação</th>\n",
              "    </tr>\n",
              "  </thead>\n",
              "  <tbody>\n",
              "    <tr>\n",
              "      <th id=\"T_40fa6_level0_row0\" class=\"row_heading level0 row0\" >3</th>\n",
              "      <td id=\"T_40fa6_row0_col0\" class=\"data row0 col0\" >40</td>\n",
              "      <td id=\"T_40fa6_row0_col1\" class=\"data row0 col1\" >Conservador</td>\n",
              "      <td id=\"T_40fa6_row0_col2\" class=\"data row0 col2\" >Internacional</td>\n",
              "      <td id=\"T_40fa6_row0_col3\" class=\"data row0 col3\" >51676.240000</td>\n",
              "      <td id=\"T_40fa6_row0_col4\" class=\"data row0 col4\" >0.100000</td>\n",
              "      <td id=\"T_40fa6_row0_col5\" class=\"data row0 col5\" >0.107723</td>\n",
              "    </tr>\n",
              "    <tr>\n",
              "      <th id=\"T_40fa6_level0_row1\" class=\"row_heading level0 row1\" >4</th>\n",
              "      <td id=\"T_40fa6_row1_col0\" class=\"data row1 col0\" >40</td>\n",
              "      <td id=\"T_40fa6_row1_col1\" class=\"data row1 col1\" >Conservador</td>\n",
              "      <td id=\"T_40fa6_row1_col2\" class=\"data row1 col2\" >Pós-Fixado</td>\n",
              "      <td id=\"T_40fa6_row1_col3\" class=\"data row1 col3\" >81623.500000</td>\n",
              "      <td id=\"T_40fa6_row1_col4\" class=\"data row1 col4\" >0.900000</td>\n",
              "      <td id=\"T_40fa6_row1_col5\" class=\"data row1 col5\" >0.571899</td>\n",
              "    </tr>\n",
              "    <tr>\n",
              "      <th id=\"T_40fa6_level0_row2\" class=\"row_heading level0 row2\" >5</th>\n",
              "      <td id=\"T_40fa6_row2_col0\" class=\"data row2 col0\" >40</td>\n",
              "      <td id=\"T_40fa6_row2_col1\" class=\"data row2 col1\" >Conservador</td>\n",
              "      <td id=\"T_40fa6_row2_col2\" class=\"data row2 col2\" >Renda Variável</td>\n",
              "      <td id=\"T_40fa6_row2_col3\" class=\"data row2 col3\" >115475.600000</td>\n",
              "      <td id=\"T_40fa6_row2_col4\" class=\"data row2 col4\" >0.000000</td>\n",
              "      <td id=\"T_40fa6_row2_col5\" class=\"data row2 col5\" >0.464176</td>\n",
              "    </tr>\n",
              "  </tbody>\n",
              "</table>\n"
            ]
          },
          "metadata": {},
          "execution_count": 59
        }
      ]
    },
    {
      "cell_type": "code",
      "source": [
        "df_desafio_2_maior_diferenca = sqldf(\"\"\"\n",
        "    SELECT COD_DIM_CONTA,SUITABILITY,ROUND(SUM(CUSTODIA),1) AS CUSTODIA_TOTAL,ROUND(SUM(DESVIO_ALOCACAO),4) AS DESVIO_ALOCACAO_TOTAL\n",
        "    FROM df_desafio_2\n",
        "    GROUP BY 1,2\n",
        "    ORDER BY DESVIO_ALOCACAO_TOTAL DESC\n",
        "\"\"\")"
      ],
      "metadata": {
        "id": "NNfDuvYqlgsG"
      },
      "execution_count": 51,
      "outputs": []
    },
    {
      "cell_type": "code",
      "source": [
        "df = df_desafio_2_maior_diferenca.head()\n",
        "df = df_desafio_2_maior_diferenca.rename(columns={'COD_DIM_CONTA': 'Cliente', 'SUITABILITY': 'Suitability', 'CUSTODIA_TOTAL': 'Custódia Total', 'DESVIO_ALOCACAO_TOTAL': 'Desvio Alocação Total'})\n",
        "df_styled = df.style.set_table_styles([{\n",
        "    'selector': 'caption',\n",
        "    'props': [('font-size', '20px'), ('font-weight', 'bold')]\n",
        "}, {\n",
        "    'selector': 'th',\n",
        "    'props': [('font-size', '16px'), ('text-align', 'center')]\n",
        "}, {\n",
        "    'selector': 'td',\n",
        "    'props': [('font-size', '12px'), ('text-align', 'center'), ('max-width', '100%')]\n",
        "}, {\n",
        "    'selector': 'tr:nth-of-type(odd)',\n",
        "    'props': [('background-color', '#f9f9f9')]\n",
        "}, {\n",
        "    'selector': 'tr:nth-of-type(even)',\n",
        "    'props': [('background-color', 'white')]\n",
        "}, {\n",
        "    'selector': 'thead th',\n",
        "    'props': [('background-color', '#333333'), ('color', 'white')]\n",
        "}, {\n",
        "    'selector': 'tbody tr:hover',\n",
        "    'props': [('background-color', '#dddddd')]\n",
        "}]).set_caption('5 clientes com maior diferença de alocação:')\n",
        "df_styled\n"
      ],
      "metadata": {
        "colab": {
          "base_uri": "https://localhost:8080/",
          "height": 366
        },
        "id": "5GCxzlphnoPH",
        "outputId": "93e99dd2-a5fb-4f8b-9ae4-a469bac7630b"
      },
      "execution_count": 54,
      "outputs": [
        {
          "output_type": "execute_result",
          "data": {
            "text/plain": [
              "<pandas.io.formats.style.Styler at 0x7de4086aa620>"
            ],
            "text/html": [
              "<style type=\"text/css\">\n",
              "#T_b2678 caption {\n",
              "  font-size: 20px;\n",
              "  font-weight: bold;\n",
              "}\n",
              "#T_b2678 th {\n",
              "  font-size: 16px;\n",
              "  text-align: center;\n",
              "}\n",
              "#T_b2678 td {\n",
              "  font-size: 12px;\n",
              "  text-align: center;\n",
              "  max-width: 100%;\n",
              "}\n",
              "#T_b2678 tr:nth-of-type(odd) {\n",
              "  background-color: #f9f9f9;\n",
              "}\n",
              "#T_b2678 tr:nth-of-type(even) {\n",
              "  background-color: white;\n",
              "}\n",
              "#T_b2678 thead th {\n",
              "  background-color: #333333;\n",
              "  color: white;\n",
              "}\n",
              "#T_b2678 tbody tr:hover {\n",
              "  background-color: #dddddd;\n",
              "}\n",
              "</style>\n",
              "<table id=\"T_b2678\" class=\"dataframe\">\n",
              "  <caption>5 clientes com maior diferença de alocação:</caption>\n",
              "  <thead>\n",
              "    <tr>\n",
              "      <th class=\"blank level0\" >&nbsp;</th>\n",
              "      <th id=\"T_b2678_level0_col0\" class=\"col_heading level0 col0\" >Cliente</th>\n",
              "      <th id=\"T_b2678_level0_col1\" class=\"col_heading level0 col1\" >Suitability</th>\n",
              "      <th id=\"T_b2678_level0_col2\" class=\"col_heading level0 col2\" >Custódia Total</th>\n",
              "      <th id=\"T_b2678_level0_col3\" class=\"col_heading level0 col3\" >Desvio Alocação Total</th>\n",
              "    </tr>\n",
              "  </thead>\n",
              "  <tbody>\n",
              "    <tr>\n",
              "      <th id=\"T_b2678_level0_row0\" class=\"row_heading level0 row0\" >0</th>\n",
              "      <td id=\"T_b2678_row0_col0\" class=\"data row0 col0\" >128</td>\n",
              "      <td id=\"T_b2678_row0_col1\" class=\"data row0 col1\" >Moderado</td>\n",
              "      <td id=\"T_b2678_row0_col2\" class=\"data row0 col2\" >360792.800000</td>\n",
              "      <td id=\"T_b2678_row0_col3\" class=\"data row0 col3\" >1.242500</td>\n",
              "    </tr>\n",
              "    <tr>\n",
              "      <th id=\"T_b2678_level0_row1\" class=\"row_heading level0 row1\" >1</th>\n",
              "      <td id=\"T_b2678_row1_col0\" class=\"data row1 col0\" >135</td>\n",
              "      <td id=\"T_b2678_row1_col1\" class=\"data row1 col1\" >Conservador</td>\n",
              "      <td id=\"T_b2678_row1_col2\" class=\"data row1 col2\" >307191.800000</td>\n",
              "      <td id=\"T_b2678_row1_col3\" class=\"data row1 col3\" >1.176100</td>\n",
              "    </tr>\n",
              "    <tr>\n",
              "      <th id=\"T_b2678_level0_row2\" class=\"row_heading level0 row2\" >2</th>\n",
              "      <td id=\"T_b2678_row2_col0\" class=\"data row2 col0\" >40</td>\n",
              "      <td id=\"T_b2678_row2_col1\" class=\"data row2 col1\" >Conservador</td>\n",
              "      <td id=\"T_b2678_row2_col2\" class=\"data row2 col2\" >248775.300000</td>\n",
              "      <td id=\"T_b2678_row2_col3\" class=\"data row2 col3\" >1.143800</td>\n",
              "    </tr>\n",
              "    <tr>\n",
              "      <th id=\"T_b2678_level0_row3\" class=\"row_heading level0 row3\" >3</th>\n",
              "      <td id=\"T_b2678_row3_col0\" class=\"data row3 col0\" >100</td>\n",
              "      <td id=\"T_b2678_row3_col1\" class=\"data row3 col1\" >Conservador</td>\n",
              "      <td id=\"T_b2678_row3_col2\" class=\"data row3 col2\" >175805.400000</td>\n",
              "      <td id=\"T_b2678_row3_col3\" class=\"data row3 col3\" >0.815600</td>\n",
              "    </tr>\n",
              "    <tr>\n",
              "      <th id=\"T_b2678_level0_row4\" class=\"row_heading level0 row4\" >4</th>\n",
              "      <td id=\"T_b2678_row4_col0\" class=\"data row4 col0\" >87</td>\n",
              "      <td id=\"T_b2678_row4_col1\" class=\"data row4 col1\" >Agressivo</td>\n",
              "      <td id=\"T_b2678_row4_col2\" class=\"data row4 col2\" >281913.700000</td>\n",
              "      <td id=\"T_b2678_row4_col3\" class=\"data row4 col3\" >0.633400</td>\n",
              "    </tr>\n",
              "    <tr>\n",
              "      <th id=\"T_b2678_level0_row5\" class=\"row_heading level0 row5\" >5</th>\n",
              "      <td id=\"T_b2678_row5_col0\" class=\"data row5 col0\" >13</td>\n",
              "      <td id=\"T_b2678_row5_col1\" class=\"data row5 col1\" >Moderado</td>\n",
              "      <td id=\"T_b2678_row5_col2\" class=\"data row5 col2\" >181976.300000</td>\n",
              "      <td id=\"T_b2678_row5_col3\" class=\"data row5 col3\" >0.424200</td>\n",
              "    </tr>\n",
              "    <tr>\n",
              "      <th id=\"T_b2678_level0_row6\" class=\"row_heading level0 row6\" >6</th>\n",
              "      <td id=\"T_b2678_row6_col0\" class=\"data row6 col0\" >144</td>\n",
              "      <td id=\"T_b2678_row6_col1\" class=\"data row6 col1\" >Moderado</td>\n",
              "      <td id=\"T_b2678_row6_col2\" class=\"data row6 col2\" >165369.300000</td>\n",
              "      <td id=\"T_b2678_row6_col3\" class=\"data row6 col3\" >0.299500</td>\n",
              "    </tr>\n",
              "    <tr>\n",
              "      <th id=\"T_b2678_level0_row7\" class=\"row_heading level0 row7\" >7</th>\n",
              "      <td id=\"T_b2678_row7_col0\" class=\"data row7 col0\" >81</td>\n",
              "      <td id=\"T_b2678_row7_col1\" class=\"data row7 col1\" >Agressivo</td>\n",
              "      <td id=\"T_b2678_row7_col2\" class=\"data row7 col2\" >143163.800000</td>\n",
              "      <td id=\"T_b2678_row7_col3\" class=\"data row7 col3\" >0.280200</td>\n",
              "    </tr>\n",
              "  </tbody>\n",
              "</table>\n"
            ]
          },
          "metadata": {},
          "execution_count": 54
        }
      ]
    },
    {
      "cell_type": "markdown",
      "source": [
        "## **DESAFIO 3**"
      ],
      "metadata": {
        "id": "qvsdHw6JRb5H"
      }
    },
    {
      "cell_type": "markdown",
      "source": [
        "**Adicionar dados de ROA e criar uma base unificada com todos os dados fornecidos.**"
      ],
      "metadata": {
        "id": "YLh46r5bR0Pm"
      }
    },
    {
      "cell_type": "code",
      "source": [
        "roa_medio = pd.DataFrame(\n",
        "    {'ESTRATEGIA':['Internacional',\n",
        "                  'Pós-Fixado',\n",
        "                  'Renda Variável'],\n",
        "    'ROA_MEDIO':[0.009,\n",
        "                 0.003,\n",
        "                 0.01]\n",
        "    }\n",
        ")\n",
        "\n",
        "base_completa = sqldf(\"\"\"\n",
        "    SELECT\n",
        "    fat_net_mensal.COD_DIM_TEMPO,\n",
        "    fat_net_mensal.COD_DIM_CONTA,\n",
        "    fat_net_mensal.COD_DIM_CANAL_ASSESSOR,\n",
        "    dim_conta_suitability.SUITABILITY,\n",
        "    fat_net_mensal.COD_DIM_PRODUTO,\n",
        "    dim_produto.CLASSE_N1 AS ESTRATEGIA,\n",
        "    ROA_MEDIO,\n",
        "    SUM(fat_net_mensal.VAL_POSICAO) OVER (PARTITION BY fat_net_mensal.COD_DIM_CONTA,ESTRATEGIA)/SUM(fat_net_mensal.VAL_POSICAO) OVER (PARTITION BY fat_net_mensal.COD_DIM_CONTA) AS ALOCACAO,\n",
        "    ALOCACAO_RECOMENDADA,\n",
        "    ABS((SUM(fat_net_mensal.VAL_POSICAO) OVER (PARTITION BY fat_net_mensal.COD_DIM_CONTA,ESTRATEGIA)/SUM(fat_net_mensal.VAL_POSICAO) OVER (PARTITION BY fat_net_mensal.COD_DIM_CONTA)) - ALOCACAO_RECOMENDADA) AS DESVIO_ALOCACAO,\n",
        "    dim_produto.CLASSE_N2 AS TIPO_PRODUTO,\n",
        "    dim_canal_assessor.CANAL,\n",
        "    fat_net_mensal.VAL_POSICAO AS CUSTODIA,\n",
        "    fat_net_mensal.VAL_POSICAO * roa_medio AS RECEITA,\n",
        "    (SUM(fat_net_mensal.VAL_POSICAO) OVER (PARTITION BY fat_net_mensal.COD_DIM_CONTA, fat_net_mensal.COD_DIM_TEMPO)) * ALOCACAO_RECOMENDADA * roa_medio AS RECEITA_ESPERADA\n",
        "FROM fat_net_mensal\n",
        "INNER JOIN dim_canal_assessor\n",
        "    ON dim_canal_assessor.COD_DIM_CANAL_ASSESSOR = fat_net_mensal.COD_DIM_CANAL_ASSESSOR\n",
        "\n",
        "INNER JOIN dim_produto\n",
        "    ON dim_produto.COD_DIM_PRODUTO = fat_net_mensal.COD_DIM_PRODUTO\n",
        "\n",
        "INNER JOIN dim_conta_suitability\n",
        "    ON dim_conta_suitability.COD_DIM_CONTA = fat_net_mensal.COD_DIM_CONTA\n",
        "\n",
        "INNER JOIN fat_recomendacao\n",
        "    ON fat_recomendacao.COD_DIM_TEMPO = fat_net_mensal.COD_DIM_TEMPO AND fat_recomendacao.SUITABILITY = dim_conta_suitability.SUITABILITY AND fat_recomendacao.CLASSE_N1 = dim_produto.CLASSE_N1\n",
        "\n",
        "LEFT JOIN roa_medio ON roa_medio.ESTRATEGIA = dim_produto.CLASSE_N1\n",
        "\n",
        "\"\"\")\n",
        "\n",
        "base_completa['COD_DIM_TEMPO'] = base_completa['COD_DIM_TEMPO'].astype(str)\n",
        "base_completa['COD_DIM_TEMPO'] = base_completa['COD_DIM_TEMPO'].apply(lambda x: x[:6])\n",
        "base_completa['COD_DIM_TEMPO'] = base_completa['COD_DIM_TEMPO'].apply(lambda x: x[:4] + '-' + x[4:])\n"
      ],
      "metadata": {
        "id": "QiU4w0ipRxJt"
      },
      "execution_count": 11,
      "outputs": []
    },
    {
      "cell_type": "markdown",
      "source": [
        "# **Analisar quais eram os clientes com maior custódia total por suitability**"
      ],
      "metadata": {
        "id": "DHqp1x8iMp2-"
      }
    },
    {
      "cell_type": "code",
      "source": [
        "maiores_clientes = sqldf(\"\"\"\n",
        "    WITH AUX AS (\n",
        "    SELECT COD_DIM_CONTA,SUITABILITY,SUM(CUSTODIA) AS CUSTODIA_TOTAL,\n",
        "    ROW_NUMBER() OVER(PARTITION BY SUITABILITY ORDER BY CUSTODIA DESC) AS CONTADOR\n",
        "    FROM df_desafio_2\n",
        "    GROUP BY 1,2\n",
        "    ORDER BY CUSTODIA_TOTAL DESC)\n",
        "\n",
        "    SELECT COD_DIM_CONTA, SUITABILITY, CUSTODIA_TOTAL\n",
        "    FROM AUX WHERE CONTADOR < 3\n",
        "    ORDER BY CUSTODIA_TOTAL DESC\n",
        "\"\"\")\n"
      ],
      "metadata": {
        "id": "es4lSpJxOZ_q"
      },
      "execution_count": 12,
      "outputs": []
    },
    {
      "cell_type": "code",
      "source": [
        "import matplotlib.pyplot as plt\n",
        "import pandas as pd\n",
        "\n",
        "# Configurações\n",
        "fig, (ax1, ax2) = plt.subplots(1, 2, figsize=(12, 5))\n",
        "\n",
        "# Gráfico de Custódia por Suitability\n",
        "grafico_custodia_clientes = base_completa.groupby(['SUITABILITY'])[['CUSTODIA']].sum()\n",
        "grafico_custodia_clientes = grafico_custodia_clientes.reset_index()\n",
        "grafico_custodia_clientes = grafico_custodia_clientes.sort_values(by='CUSTODIA', ascending=False)  # Ordenar pela custódia em ordem decrescente\n",
        "grouped = grafico_custodia_clientes.groupby('SUITABILITY').mean()\n",
        "grouped.plot(kind='bar', ax=ax1, color=['grey'])  # Usar cores preto e cinza\n",
        "\n",
        "ax1.set_ylabel('Custodia')\n",
        "ax1.set_xlabel('Suitability')\n",
        "ax1.set_title('Custodia x Suitability')\n",
        "\n",
        "# Gráfico de Custódia Total por Cliente\n",
        "grafico_maiores_clientes = maiores_clientes.groupby(['COD_DIM_CONTA'])[['CUSTODIA_TOTAL']].sum()\n",
        "grafico_maiores_clientes = grafico_maiores_clientes.reset_index()\n",
        "grafico_maiores_clientes = grafico_maiores_clientes.sort_values(by='CUSTODIA_TOTAL', ascending=False)  # Ordenar pela custódia total em ordem decrescente\n",
        "grouped = grafico_maiores_clientes.groupby('COD_DIM_CONTA').mean()\n",
        "grouped.plot(kind='bar', ax=ax2, color=['grey'])  # Usar cores preto e cinza\n",
        "\n",
        "ax2.set_ylabel('Custodia')\n",
        "ax2.set_xlabel('Cliente')\n",
        "ax2.set_title('Clientes com maior custodia')\n",
        "\n",
        "plt.tight_layout()\n",
        "plt.show()\n"
      ],
      "metadata": {
        "colab": {
          "base_uri": "https://localhost:8080/",
          "height": 507
        },
        "id": "WwTQK2gIQGEm",
        "outputId": "35037453-2cbb-4e46-dfc2-a8ce984e264b"
      },
      "execution_count": 13,
      "outputs": [
        {
          "output_type": "display_data",
          "data": {
            "text/plain": [
              "<Figure size 1200x500 with 2 Axes>"
            ],
            "image/png": "[encoded data removed]"
          },
          "metadata": {}
        }
      ]
    },
    {
      "cell_type": "markdown",
      "source": [
        "# **Analisar os produtos com maior alocação dos clientes dentro do canal B2C**"
      ],
      "metadata": {
        "id": "EKa_WVBSVOYn"
      }
    },
    {
      "cell_type": "code",
      "source": [
        "ranking_produtos = sqldf(\"\"\"\n",
        "  WITH AUX AS (\n",
        "      SELECT DISTINCT COD_DIM_PRODUTO, COD_DIM_TEMPO,\n",
        "      ROUND(SUM(CUSTODIA) OVER (PARTITION BY COD_DIM_TEMPO,COD_DIM_PRODUTO) / SUM(CUSTODIA) OVER (PARTITION BY COD_DIM_TEMPO) * 100, 1) AS PORCENT_CUSTODIA\n",
        "      FROM base_completa\n",
        "      WHERE CANAL = \"B2C\"\n",
        "      ORDER BY PORCENT_CUSTODIA DESC)\n",
        "  SELECT *,\n",
        "  (SELECT COUNT(*) FROM AUX AS sub WHERE sub.COD_DIM_TEMPO = AUX.COD_DIM_TEMPO AND sub.PORCENT_CUSTODIA >= AUX.PORCENT_CUSTODIA) AS RANKING\n",
        "  FROM AUX\n",
        "\"\"\")\n",
        "\n",
        "top_produtos = sqldf(\"\"\"\n",
        "  SELECT * FROM ranking_produtos\n",
        "  WHERE RANKING < 4\n",
        "  ORDER BY COD_DIM_TEMPO DESC,RANKING ASC\n",
        "\"\"\")"
      ],
      "metadata": {
        "id": "O2nzwr-qVQdm"
      },
      "execution_count": 14,
      "outputs": []
    },
    {
      "cell_type": "code",
      "source": [
        "maiores_porcentagens = top_produtos.groupby('COD_DIM_TEMPO').apply(lambda x: x.nlargest(3, 'PORCENT_CUSTODIA')).reset_index(drop=True)\n",
        "maiores_porcentagens['PORCENT_CUSTODIA'] = maiores_porcentagens['PORCENT_CUSTODIA'].astype(str) + '%'\n",
        "maiores_porcentagens = maiores_porcentagens.rename(columns={'COD_DIM_TEMPO': 'Mês', 'COD_DIM_PRODUTO': 'Produto', 'PORCENT_CUSTODIA': 'Representatividade', 'RANKING': 'Ranking'})\n",
        "tabela_top_produtos = maiores_porcentagens.style.set_table_styles([{\n",
        "    'selector': 'caption',\n",
        "    'props': [('font-size', '20px'), ('font-weight', 'bold')]\n",
        "}, {\n",
        "    'selector': 'th',\n",
        "    'props': [('font-size', '16px'), ('text-align', 'center')]\n",
        "}, {\n",
        "    'selector': 'td',\n",
        "    'props': [('font-size', '12px'), ('text-align', 'center'), ('max-width', '100%')]\n",
        "}, {\n",
        "    'selector': 'tr:nth-of-type(odd)',\n",
        "    'props': [('background-color', '#f9f9f9')]\n",
        "}, {\n",
        "    'selector': 'tr:nth-of-type(even)',\n",
        "    'props': [('background-color', 'white')]\n",
        "}, {\n",
        "    'selector': 'thead th',\n",
        "    'props': [('background-color', '#333333'), ('color', 'white')]\n",
        "}, {\n",
        "    'selector': 'tbody tr:hover',\n",
        "    'props': [('background-color', '#dddddd')]\n",
        "}]).set_caption('Top 3 produtos em representatividade sobre o total (por mês)')\n",
        "tabela_top_produtos"
      ],
      "metadata": {
        "colab": {
          "base_uri": "https://localhost:8080/",
          "height": 426
        },
        "id": "C99aavevknh2",
        "outputId": "2594ea06-3eab-477d-d415-f240dd02041a"
      },
      "execution_count": 16,
      "outputs": [
        {
          "output_type": "execute_result",
          "data": {
            "text/plain": [
              "<pandas.io.formats.style.Styler at 0x7de40658feb0>"
            ],
            "text/html": [
              "<style type=\"text/css\">\n",
              "#T_0572d caption {\n",
              "  font-size: 20px;\n",
              "  font-weight: bold;\n",
              "}\n",
              "#T_0572d th {\n",
              "  font-size: 16px;\n",
              "  text-align: center;\n",
              "}\n",
              "#T_0572d td {\n",
              "  font-size: 12px;\n",
              "  text-align: center;\n",
              "  max-width: 100%;\n",
              "}\n",
              "#T_0572d tr:nth-of-type(odd) {\n",
              "  background-color: #f9f9f9;\n",
              "}\n",
              "#T_0572d tr:nth-of-type(even) {\n",
              "  background-color: white;\n",
              "}\n",
              "#T_0572d thead th {\n",
              "  background-color: #333333;\n",
              "  color: white;\n",
              "}\n",
              "#T_0572d tbody tr:hover {\n",
              "  background-color: #dddddd;\n",
              "}\n",
              "</style>\n",
              "<table id=\"T_0572d\" class=\"dataframe\">\n",
              "  <caption>Top 3 produtos em representatividade sobre o total (por mês)</caption>\n",
              "  <thead>\n",
              "    <tr>\n",
              "      <th class=\"blank level0\" >&nbsp;</th>\n",
              "      <th id=\"T_0572d_level0_col0\" class=\"col_heading level0 col0\" >Produto</th>\n",
              "      <th id=\"T_0572d_level0_col1\" class=\"col_heading level0 col1\" >Mês</th>\n",
              "      <th id=\"T_0572d_level0_col2\" class=\"col_heading level0 col2\" >Representatividade</th>\n",
              "      <th id=\"T_0572d_level0_col3\" class=\"col_heading level0 col3\" >Ranking</th>\n",
              "    </tr>\n",
              "  </thead>\n",
              "  <tbody>\n",
              "    <tr>\n",
              "      <th id=\"T_0572d_level0_row0\" class=\"row_heading level0 row0\" >0</th>\n",
              "      <td id=\"T_0572d_row0_col0\" class=\"data row0 col0\" >7</td>\n",
              "      <td id=\"T_0572d_row0_col1\" class=\"data row0 col1\" >2021-08</td>\n",
              "      <td id=\"T_0572d_row0_col2\" class=\"data row0 col2\" >12.4%</td>\n",
              "      <td id=\"T_0572d_row0_col3\" class=\"data row0 col3\" >1</td>\n",
              "    </tr>\n",
              "    <tr>\n",
              "      <th id=\"T_0572d_level0_row1\" class=\"row_heading level0 row1\" >1</th>\n",
              "      <td id=\"T_0572d_row1_col0\" class=\"data row1 col0\" >23</td>\n",
              "      <td id=\"T_0572d_row1_col1\" class=\"data row1 col1\" >2021-08</td>\n",
              "      <td id=\"T_0572d_row1_col2\" class=\"data row1 col2\" >8.7%</td>\n",
              "      <td id=\"T_0572d_row1_col3\" class=\"data row1 col3\" >2</td>\n",
              "    </tr>\n",
              "    <tr>\n",
              "      <th id=\"T_0572d_level0_row2\" class=\"row_heading level0 row2\" >2</th>\n",
              "      <td id=\"T_0572d_row2_col0\" class=\"data row2 col0\" >5</td>\n",
              "      <td id=\"T_0572d_row2_col1\" class=\"data row2 col1\" >2021-08</td>\n",
              "      <td id=\"T_0572d_row2_col2\" class=\"data row2 col2\" >8.6%</td>\n",
              "      <td id=\"T_0572d_row2_col3\" class=\"data row2 col3\" >3</td>\n",
              "    </tr>\n",
              "    <tr>\n",
              "      <th id=\"T_0572d_level0_row3\" class=\"row_heading level0 row3\" >3</th>\n",
              "      <td id=\"T_0572d_row3_col0\" class=\"data row3 col0\" >46</td>\n",
              "      <td id=\"T_0572d_row3_col1\" class=\"data row3 col1\" >2021-09</td>\n",
              "      <td id=\"T_0572d_row3_col2\" class=\"data row3 col2\" >9.0%</td>\n",
              "      <td id=\"T_0572d_row3_col3\" class=\"data row3 col3\" >1</td>\n",
              "    </tr>\n",
              "    <tr>\n",
              "      <th id=\"T_0572d_level0_row4\" class=\"row_heading level0 row4\" >4</th>\n",
              "      <td id=\"T_0572d_row4_col0\" class=\"data row4 col0\" >28</td>\n",
              "      <td id=\"T_0572d_row4_col1\" class=\"data row4 col1\" >2021-09</td>\n",
              "      <td id=\"T_0572d_row4_col2\" class=\"data row4 col2\" >8.9%</td>\n",
              "      <td id=\"T_0572d_row4_col3\" class=\"data row4 col3\" >2</td>\n",
              "    </tr>\n",
              "    <tr>\n",
              "      <th id=\"T_0572d_level0_row5\" class=\"row_heading level0 row5\" >5</th>\n",
              "      <td id=\"T_0572d_row5_col0\" class=\"data row5 col0\" >9</td>\n",
              "      <td id=\"T_0572d_row5_col1\" class=\"data row5 col1\" >2021-09</td>\n",
              "      <td id=\"T_0572d_row5_col2\" class=\"data row5 col2\" >7.9%</td>\n",
              "      <td id=\"T_0572d_row5_col3\" class=\"data row5 col3\" >3</td>\n",
              "    </tr>\n",
              "    <tr>\n",
              "      <th id=\"T_0572d_level0_row6\" class=\"row_heading level0 row6\" >6</th>\n",
              "      <td id=\"T_0572d_row6_col0\" class=\"data row6 col0\" >41</td>\n",
              "      <td id=\"T_0572d_row6_col1\" class=\"data row6 col1\" >2021-10</td>\n",
              "      <td id=\"T_0572d_row6_col2\" class=\"data row6 col2\" >18.0%</td>\n",
              "      <td id=\"T_0572d_row6_col3\" class=\"data row6 col3\" >1</td>\n",
              "    </tr>\n",
              "    <tr>\n",
              "      <th id=\"T_0572d_level0_row7\" class=\"row_heading level0 row7\" >7</th>\n",
              "      <td id=\"T_0572d_row7_col0\" class=\"data row7 col0\" >31</td>\n",
              "      <td id=\"T_0572d_row7_col1\" class=\"data row7 col1\" >2021-10</td>\n",
              "      <td id=\"T_0572d_row7_col2\" class=\"data row7 col2\" >13.7%</td>\n",
              "      <td id=\"T_0572d_row7_col3\" class=\"data row7 col3\" >2</td>\n",
              "    </tr>\n",
              "    <tr>\n",
              "      <th id=\"T_0572d_level0_row8\" class=\"row_heading level0 row8\" >8</th>\n",
              "      <td id=\"T_0572d_row8_col0\" class=\"data row8 col0\" >46</td>\n",
              "      <td id=\"T_0572d_row8_col1\" class=\"data row8 col1\" >2021-10</td>\n",
              "      <td id=\"T_0572d_row8_col2\" class=\"data row8 col2\" >10.2%</td>\n",
              "      <td id=\"T_0572d_row8_col3\" class=\"data row8 col3\" >3</td>\n",
              "    </tr>\n",
              "  </tbody>\n",
              "</table>\n"
            ]
          },
          "metadata": {},
          "execution_count": 16
        }
      ]
    },
    {
      "cell_type": "markdown",
      "source": [
        "# **Analisar o histórico de distribuição de produtos do cliente com os maiores desvios atualmente**"
      ],
      "metadata": {
        "id": "6q57P4CvuxTE"
      }
    },
    {
      "cell_type": "code",
      "source": [],
      "metadata": {
        "id": "Md3uxv8yu0gI"
      },
      "execution_count": 16,
      "outputs": []
    },
    {
      "cell_type": "markdown",
      "source": [
        "# **Calcular a receita potencial gerada com a alocação recomendada dos clientes.**"
      ],
      "metadata": {
        "id": "cc96NhEROHoF"
      }
    },
    {
      "cell_type": "code",
      "source": [
        "largura_barra = 0.35\n",
        "fig, (ax1, ax2, ax3) = plt.subplots(1, 3, figsize=(11, 4))\n",
        "receita_mensal_canal_soma = base_completa.groupby(['COD_DIM_TEMPO', 'CANAL'])[['RECEITA']].sum()\n",
        "receita_mensal_canal_soma = receita_mensal_canal_soma.reset_index()\n",
        "indices = np.arange(len(receita_mensal_canal_soma['COD_DIM_TEMPO'].unique()))\n",
        "cores = ['black', 'grey']\n",
        "largura_linha = 2.5  # Definindo a largura da linha\n",
        "for i, (canal, dados_canal) in enumerate(receita_mensal_canal_soma.groupby('CANAL')):\n",
        "    ax1.plot(indices, dados_canal['RECEITA'], label=canal, color=cores[i], linewidth=6.0)\n",
        "ax1.set_xlabel('Mês')\n",
        "ax1.set_ylabel('Receita')\n",
        "ax1.set_title('Gráfico 1 - Receita mensal por canal')\n",
        "ax1.set_xticks(indices)\n",
        "ax1.set_xticklabels(receita_mensal_canal_soma['COD_DIM_TEMPO'].unique(), rotation=45)\n",
        "ax1.grid(False)\n",
        "ax1.legend()\n",
        "\n",
        "desvio_mensal_canal_media = base_completa.groupby(['COD_DIM_TEMPO', 'CANAL'])[['DESVIO_ALOCACAO']].mean()\n",
        "desvio_mensal_canal_media = desvio_mensal_canal_media.reset_index()\n",
        "\n",
        "for i, (canal, dados_canal) in enumerate(desvio_mensal_canal_media.groupby('CANAL')):\n",
        "    ax2.plot(indices, dados_canal['DESVIO_ALOCACAO'], label=canal, color=cores[i], linewidth=6.0)\n",
        "\n",
        "ax2.set_xlabel('Mês')\n",
        "ax2.set_ylabel('Desvio Alocação')\n",
        "ax2.set_title('Gráfico 2 - Desvio alocação mensal por canal')\n",
        "ax2.set_xticks(indices)\n",
        "ax2.set_xticklabels(desvio_mensal_canal_media['COD_DIM_TEMPO'].unique(), rotation=45)\n",
        "ax2.grid(False)\n",
        "ax2.legend()\n",
        "\n",
        "df_somas = base_completa.groupby('COD_DIM_TEMPO').agg({'RECEITA': 'sum', 'RECEITA_ESPERADA': 'sum'}).reset_index()\n",
        "\n",
        "ax3.bar(df_somas['COD_DIM_TEMPO'], df_somas['RECEITA'], color='black', label='Receita')\n",
        "ax3.bar(df_somas['COD_DIM_TEMPO'], df_somas['RECEITA_ESPERADA'], color='grey', label='Receita Esperada')\n",
        "ax3.set_xlabel('Mês')\n",
        "ax3.set_ylabel('Receita')\n",
        "ax3.set_title('Gráfico 3 - Receita Real x Esperada')\n",
        "ax3.set_xticklabels(df_somas['COD_DIM_TEMPO'], rotation=45)\n",
        "ax3.grid(False)\n",
        "ax3.legend()\n",
        "\n",
        "plt.tight_layout()\n",
        "plt.show()"
      ],
      "metadata": {
        "colab": {
          "base_uri": "https://localhost:8080/",
          "height": 445
        },
        "id": "kJCtCz-2f3Bt",
        "outputId": "76bb3dda-e1ff-4ed8-d6ac-752cedfea0db"
      },
      "execution_count": 63,
      "outputs": [
        {
          "output_type": "stream",
          "name": "stderr",
          "text": [
            "<ipython-input-63-5006e4e8ec2d>:39: UserWarning: FixedFormatter should only be used together with FixedLocator\n",
            "  ax3.set_xticklabels(df_somas['COD_DIM_TEMPO'], rotation=45)\n"
          ]
        },
        {
          "output_type": "display_data",
          "data": {
            "text/plain": [
              "<Figure size 1100x400 with 3 Axes>"
            ],
            "image/png": "[encoded data removed]"
          },
          "metadata": {}
        }
      ]
    },
    {
      "cell_type": "markdown",
      "source": [
        "\n",
        " ## **Analisando os gráficos de receita e desvio de alocação mensais, fica claro que a receita está caindo a medida que o desvio da alocação diminui. Isso mostra que a recomendação de alocação não está coerente com o aumento da receita.**"
      ],
      "metadata": {
        "id": "Sq53A2GN9Q0N"
      }
    },
    {
      "cell_type": "markdown",
      "source": [
        "## **Isso pode ser comprovado no gráfico 3, que mostra que a receita seria menor caso atendesse 100% a alocação recomendada.**"
      ],
      "metadata": {
        "id": "o02gj9GYMU_P"
      }
    },
    {
      "cell_type": "code",
      "source": [],
      "metadata": {
        "id": "7iPcdVqqS9PT"
      },
      "execution_count": 17,
      "outputs": []
    }
  ]
}